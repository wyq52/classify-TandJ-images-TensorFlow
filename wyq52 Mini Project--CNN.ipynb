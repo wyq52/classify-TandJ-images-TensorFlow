{
 "cells": [
  {
   "cell_type": "code",
   "execution_count": 2,
   "id": "c1567656",
   "metadata": {},
   "outputs": [],
   "source": [
    "#import the packages:\n",
    "import tensorflow as tf\n",
    "import matplotlib.pyplot as plt\n",
    "import numpy as np\n",
    "import sklearn\n",
    "from tensorflow import keras\n",
    "from tensorflow.keras.models import Sequential\n",
    "from tensorflow.keras import layers\n",
    "from keras import initializers"
   ]
  },
  {
   "cell_type": "code",
   "execution_count": 3,
   "id": "f5fb65c3",
   "metadata": {},
   "outputs": [
    {
     "name": "stdout",
     "output_type": "stream",
     "text": [
      "Found 5478 files belonging to 4 classes.\n",
      "Using 4383 files for training.\n"
     ]
    },
    {
     "name": "stderr",
     "output_type": "stream",
     "text": [
      "2023-03-07 09:13:07.271663: I tensorflow/core/platform/cpu_feature_guard.cc:193] This TensorFlow binary is optimized with oneAPI Deep Neural Network Library (oneDNN) to use the following CPU instructions in performance-critical operations:  SSE4.1 SSE4.2\n",
      "To enable them in other operations, rebuild TensorFlow with the appropriate compiler flags.\n"
     ]
    },
    {
     "name": "stdout",
     "output_type": "stream",
     "text": [
      "Found 5478 files belonging to 4 classes.\n",
      "Using 1095 files for validation.\n"
     ]
    }
   ],
   "source": [
    "image_path = \"/Users/wangyingqi/Desktop/Tom and Jerry/tom_and_jerry/tom_and_jerry\"\n",
    "\n",
    "#create dataset of training\n",
    "train_ds = tf.keras.preprocessing.image_dataset_from_directory(\n",
    "    image_path ,\n",
    "    labels = \"inferred\",\n",
    "    label_mode = \"int\",\n",
    "    batch_size =32,\n",
    "    image_size =(128,128),\n",
    "    shuffle = True,\n",
    "    seed = 123,\n",
    "    validation_split = 0.2,\n",
    "    subset = \"training\",\n",
    ")\n",
    "#create dataset of validing\n",
    "test_ds = tf.keras.preprocessing.image_dataset_from_directory(\n",
    "    image_path ,\n",
    "    labels = \"inferred\",\n",
    "    label_mode = \"int\",\n",
    "    batch_size =32,\n",
    "    image_size =(128,128),\n",
    "    shuffle = True,\n",
    "    seed = 123,\n",
    "    validation_split = 0.2,\n",
    "    subset = \"validation\",\n",
    ")\n",
    "\n",
    "\n"
   ]
  },
  {
   "cell_type": "code",
   "execution_count": 7,
   "id": "838ab581",
   "metadata": {
    "scrolled": false
   },
   "outputs": [
    {
     "name": "stdout",
     "output_type": "stream",
     "text": [
      "Epoch 1/30\n",
      "137/137 [==============================] - 10s 70ms/step - loss: 1.3372 - accuracy: 0.3541 - val_loss: 1.2602 - val_accuracy: 0.4274\n",
      "Epoch 2/30\n",
      "137/137 [==============================] - 10s 70ms/step - loss: 1.1498 - accuracy: 0.4914 - val_loss: 0.9832 - val_accuracy: 0.5653\n",
      "Epoch 3/30\n",
      "137/137 [==============================] - 10s 72ms/step - loss: 0.9582 - accuracy: 0.5909 - val_loss: 0.9590 - val_accuracy: 0.5954\n",
      "Epoch 4/30\n",
      "137/137 [==============================] - 11s 76ms/step - loss: 0.8337 - accuracy: 0.6523 - val_loss: 0.7792 - val_accuracy: 0.6849\n",
      "Epoch 5/30\n",
      "137/137 [==============================] - 11s 77ms/step - loss: 0.7463 - accuracy: 0.6966 - val_loss: 0.7147 - val_accuracy: 0.7306\n",
      "Epoch 6/30\n",
      "137/137 [==============================] - 11s 82ms/step - loss: 0.6661 - accuracy: 0.7317 - val_loss: 0.7416 - val_accuracy: 0.7105\n",
      "Epoch 7/30\n",
      "137/137 [==============================] - 12s 83ms/step - loss: 0.5786 - accuracy: 0.7643 - val_loss: 0.5818 - val_accuracy: 0.7854\n",
      "Epoch 8/30\n",
      "137/137 [==============================] - 12s 83ms/step - loss: 0.5541 - accuracy: 0.7823 - val_loss: 0.5741 - val_accuracy: 0.7817\n",
      "Epoch 9/30\n",
      "137/137 [==============================] - 12s 83ms/step - loss: 0.4878 - accuracy: 0.8113 - val_loss: 0.5561 - val_accuracy: 0.7982\n",
      "Epoch 10/30\n",
      "137/137 [==============================] - 12s 84ms/step - loss: 0.4592 - accuracy: 0.8202 - val_loss: 0.5450 - val_accuracy: 0.8183\n",
      "Epoch 11/30\n",
      "137/137 [==============================] - 12s 84ms/step - loss: 0.4176 - accuracy: 0.8392 - val_loss: 0.4475 - val_accuracy: 0.8420\n",
      "Epoch 12/30\n",
      "137/137 [==============================] - 12s 85ms/step - loss: 0.3448 - accuracy: 0.8684 - val_loss: 0.4293 - val_accuracy: 0.8466\n",
      "Epoch 13/30\n",
      "137/137 [==============================] - 12s 85ms/step - loss: 0.3368 - accuracy: 0.8702 - val_loss: 0.4457 - val_accuracy: 0.8457\n",
      "Epoch 14/30\n",
      "137/137 [==============================] - 13s 91ms/step - loss: 0.3288 - accuracy: 0.8786 - val_loss: 0.5164 - val_accuracy: 0.8192\n",
      "Epoch 15/30\n",
      "137/137 [==============================] - 13s 89ms/step - loss: 0.2884 - accuracy: 0.8896 - val_loss: 0.4529 - val_accuracy: 0.8511\n",
      "Epoch 16/30\n",
      "137/137 [==============================] - 12s 88ms/step - loss: 0.2666 - accuracy: 0.8973 - val_loss: 0.4332 - val_accuracy: 0.8658\n",
      "Epoch 17/30\n",
      "137/137 [==============================] - 12s 87ms/step - loss: 0.2487 - accuracy: 0.9060 - val_loss: 0.3920 - val_accuracy: 0.8740\n",
      "Epoch 18/30\n",
      "137/137 [==============================] - 12s 88ms/step - loss: 0.2257 - accuracy: 0.9149 - val_loss: 0.4422 - val_accuracy: 0.8548\n",
      "Epoch 19/30\n",
      "137/137 [==============================] - 12s 88ms/step - loss: 0.2176 - accuracy: 0.9170 - val_loss: 0.3881 - val_accuracy: 0.8795\n",
      "Epoch 20/30\n",
      "137/137 [==============================] - 13s 93ms/step - loss: 0.2022 - accuracy: 0.9233 - val_loss: 0.4462 - val_accuracy: 0.8630\n",
      "Epoch 21/30\n",
      "137/137 [==============================] - 12s 88ms/step - loss: 0.1848 - accuracy: 0.9327 - val_loss: 0.3988 - val_accuracy: 0.8749\n",
      "Epoch 22/30\n",
      "137/137 [==============================] - 12s 88ms/step - loss: 0.1880 - accuracy: 0.9302 - val_loss: 0.5145 - val_accuracy: 0.8447\n",
      "Epoch 23/30\n",
      "137/137 [==============================] - 13s 93ms/step - loss: 0.1873 - accuracy: 0.9279 - val_loss: 0.3930 - val_accuracy: 0.8758\n",
      "Epoch 24/30\n",
      "137/137 [==============================] - 13s 93ms/step - loss: 0.1557 - accuracy: 0.9441 - val_loss: 0.4074 - val_accuracy: 0.8721\n",
      "Epoch 25/30\n",
      "137/137 [==============================] - 13s 93ms/step - loss: 0.1535 - accuracy: 0.9443 - val_loss: 0.4322 - val_accuracy: 0.8639\n",
      "Epoch 26/30\n",
      "137/137 [==============================] - 13s 93ms/step - loss: 0.1412 - accuracy: 0.9482 - val_loss: 0.4363 - val_accuracy: 0.8712\n",
      "Epoch 27/30\n",
      "137/137 [==============================] - 12s 89ms/step - loss: 0.1485 - accuracy: 0.9482 - val_loss: 0.4461 - val_accuracy: 0.8712\n",
      "Epoch 28/30\n",
      "137/137 [==============================] - 13s 90ms/step - loss: 0.1461 - accuracy: 0.9496 - val_loss: 0.4478 - val_accuracy: 0.8475\n",
      "Epoch 29/30\n",
      "137/137 [==============================] - 13s 90ms/step - loss: 0.1310 - accuracy: 0.9525 - val_loss: 0.4202 - val_accuracy: 0.8840\n",
      "Epoch 30/30\n",
      "137/137 [==============================] - 13s 92ms/step - loss: 0.1218 - accuracy: 0.9546 - val_loss: 0.4395 - val_accuracy: 0.8740\n"
     ]
    }
   ],
   "source": [
    "#build the model of CNN:\n",
    "nor_lay = tf.keras.layers.Rescaling(1./255,input_shape =(128,128,3))\n",
    "\n",
    "model = Sequential()\n",
    "model.add(nor_lay)\n",
    "model.add(layers.Conv2D(filters =32,kernel_size = (5,5),strides =2,padding = 'same',activation ='relu'))\n",
    "model.add(layers.MaxPooling2D(pool_size = (5,5),strides = 2,padding = 'same'))\n",
    "model.add(layers.Conv2D(filters =32,kernel_size = (5,5),strides =2,padding = 'same',activation ='relu'))\n",
    "model.add(layers.MaxPooling2D(pool_size = (5,5),strides = 2,padding = 'same'))\n",
    "model.add(layers.Dropout(0.2))\n",
    "model.add(layers.Flatten())\n",
    "model.add(layers.Dropout(0.2))\n",
    "model.add(layers.Dense(units = 64,activation ='relu'))\n",
    "model.add(layers.Dense(units =4,kernel_initializer =initializers.random_normal(stddev=0.01),activation ='softmax'))\n",
    "    \n",
    "model.compile(optimizer= tf.optimizers.Adam(learning_rate =0.001),\n",
    "              loss =tf.keras.losses.SparseCategoricalCrossentropy(from_logits = False),\n",
    "              metrics = 'accuracy',\n",
    "             )\n",
    "\n",
    "epoch_num = 30\n",
    "history = model.fit(train_ds,validation_data = test_ds,epochs = epoch_num)\n",
    "\n"
   ]
  },
  {
   "cell_type": "code",
   "execution_count": 8,
   "id": "1fac32b9",
   "metadata": {
    "scrolled": true
   },
   "outputs": [
    {
     "data": {
      "image/png": "[encoded data removed]",
      "text/plain": [
       "<Figure size 432x288 with 1 Axes>"
      ]
     },
     "metadata": {
      "needs_background": "light"
     },
     "output_type": "display_data"
    },
    {
     "data": {
      "image/png": "[encoded data removed]",
      "text/plain": [
       "<Figure size 432x288 with 1 Axes>"
      ]
     },
     "metadata": {
      "needs_background": "light"
     },
     "output_type": "display_data"
    }
   ],
   "source": [
    "#make the image of the accuracy & loss of training and validation\n",
    "#model compile first\n",
    "\n",
    "plt.plot(range(epoch_num),history.history['accuracy'])\n",
    "plt.plot(range(epoch_num),history.history['val_accuracy'])\n",
    "plt.title(' Training & Validation Accuracy')\n",
    "plt.ylabel('Accuracy')\n",
    "plt.xlabel('Epoch')\n",
    "plt.legend(['train', 'test'], loc='lower left') \n",
    "plt.show()\n",
    "\n",
    "\n",
    "plt.plot(range(epoch_num),history.history['loss'])\n",
    "plt.plot(range(epoch_num),history.history['val_loss'])\n",
    "plt.title('Training & Validation Loss')\n",
    "plt.ylabel('Loss')\n",
    "plt.xlabel('epoch')\n",
    "plt.legend(['train', 'test'], loc='upper left') \n",
    "plt.show()"
   ]
  },
  {
   "cell_type": "code",
   "execution_count": 11,
   "id": "3f471adb",
   "metadata": {},
   "outputs": [
    {
     "name": "stdout",
     "output_type": "stream",
     "text": [
      "Epoch 1/100\n",
      "137/137 [==============================] - 11s 80ms/step - loss: 1.3312 - accuracy: 0.3557 - val_loss: 1.2390 - val_accuracy: 0.4384\n",
      "Epoch 2/100\n",
      "137/137 [==============================] - 11s 82ms/step - loss: 1.0984 - accuracy: 0.5108 - val_loss: 0.8915 - val_accuracy: 0.6292\n",
      "Epoch 3/100\n",
      "137/137 [==============================] - 12s 83ms/step - loss: 0.8784 - accuracy: 0.6308 - val_loss: 0.7725 - val_accuracy: 0.6831\n",
      "Epoch 4/100\n",
      "137/137 [==============================] - 12s 84ms/step - loss: 0.7401 - accuracy: 0.6961 - val_loss: 0.7335 - val_accuracy: 0.7123\n",
      "Epoch 5/100\n",
      "137/137 [==============================] - 12s 87ms/step - loss: 0.6199 - accuracy: 0.7614 - val_loss: 0.7220 - val_accuracy: 0.7251\n",
      "Epoch 6/100\n",
      "137/137 [==============================] - 12s 88ms/step - loss: 0.5390 - accuracy: 0.7890 - val_loss: 0.5923 - val_accuracy: 0.7699\n",
      "Epoch 7/100\n",
      "137/137 [==============================] - 12s 89ms/step - loss: 0.5016 - accuracy: 0.8022 - val_loss: 0.5637 - val_accuracy: 0.7954\n",
      "Epoch 8/100\n",
      "137/137 [==============================] - 13s 89ms/step - loss: 0.4463 - accuracy: 0.8266 - val_loss: 0.5612 - val_accuracy: 0.7927\n",
      "Epoch 9/100\n",
      "137/137 [==============================] - 13s 90ms/step - loss: 0.3990 - accuracy: 0.8471 - val_loss: 0.4954 - val_accuracy: 0.8174\n",
      "Epoch 10/100\n",
      "137/137 [==============================] - 13s 90ms/step - loss: 0.3613 - accuracy: 0.8631 - val_loss: 0.4995 - val_accuracy: 0.8311\n",
      "Epoch 11/100\n",
      "137/137 [==============================] - 13s 91ms/step - loss: 0.3339 - accuracy: 0.8684 - val_loss: 0.5527 - val_accuracy: 0.8128\n",
      "Epoch 12/100\n",
      "137/137 [==============================] - 13s 91ms/step - loss: 0.2871 - accuracy: 0.8903 - val_loss: 0.4671 - val_accuracy: 0.8356\n",
      "Epoch 13/100\n",
      "137/137 [==============================] - 13s 91ms/step - loss: 0.2579 - accuracy: 0.9012 - val_loss: 0.4148 - val_accuracy: 0.8557\n",
      "Epoch 14/100\n",
      "137/137 [==============================] - 13s 91ms/step - loss: 0.2282 - accuracy: 0.9188 - val_loss: 0.4263 - val_accuracy: 0.8676\n",
      "Epoch 15/100\n",
      "137/137 [==============================] - 13s 91ms/step - loss: 0.2025 - accuracy: 0.9261 - val_loss: 0.4616 - val_accuracy: 0.8511\n",
      "Epoch 16/100\n",
      "137/137 [==============================] - 13s 91ms/step - loss: 0.2068 - accuracy: 0.9247 - val_loss: 0.4333 - val_accuracy: 0.8612\n",
      "Epoch 17/100\n",
      "137/137 [==============================] - 13s 91ms/step - loss: 0.1868 - accuracy: 0.9327 - val_loss: 0.4306 - val_accuracy: 0.8703\n",
      "Epoch 18/100\n",
      "137/137 [==============================] - 13s 92ms/step - loss: 0.1696 - accuracy: 0.9361 - val_loss: 0.4385 - val_accuracy: 0.8658\n",
      "Epoch 19/100\n",
      "137/137 [==============================] - 13s 92ms/step - loss: 0.1545 - accuracy: 0.9373 - val_loss: 0.4909 - val_accuracy: 0.8447\n",
      "Epoch 20/100\n",
      "137/137 [==============================] - 13s 92ms/step - loss: 0.1307 - accuracy: 0.9544 - val_loss: 0.3953 - val_accuracy: 0.8776\n",
      "Epoch 21/100\n",
      "137/137 [==============================] - 13s 92ms/step - loss: 0.1449 - accuracy: 0.9473 - val_loss: 0.4632 - val_accuracy: 0.8502\n",
      "Epoch 22/100\n",
      "137/137 [==============================] - 13s 92ms/step - loss: 0.1351 - accuracy: 0.9523 - val_loss: 0.4035 - val_accuracy: 0.8804\n",
      "Epoch 23/100\n",
      "137/137 [==============================] - 13s 92ms/step - loss: 0.1202 - accuracy: 0.9573 - val_loss: 0.4745 - val_accuracy: 0.8612\n",
      "Epoch 24/100\n",
      "137/137 [==============================] - 13s 92ms/step - loss: 0.1290 - accuracy: 0.9537 - val_loss: 0.4261 - val_accuracy: 0.8795\n",
      "Epoch 25/100\n",
      "137/137 [==============================] - 13s 93ms/step - loss: 0.1145 - accuracy: 0.9605 - val_loss: 0.4797 - val_accuracy: 0.8612\n",
      "Epoch 26/100\n",
      "137/137 [==============================] - 13s 93ms/step - loss: 0.1058 - accuracy: 0.9585 - val_loss: 0.4759 - val_accuracy: 0.8804\n",
      "Epoch 27/100\n",
      "137/137 [==============================] - 13s 93ms/step - loss: 0.0992 - accuracy: 0.9649 - val_loss: 0.5282 - val_accuracy: 0.8658\n",
      "Epoch 28/100\n",
      "137/137 [==============================] - 13s 93ms/step - loss: 0.0930 - accuracy: 0.9697 - val_loss: 0.4897 - val_accuracy: 0.8767\n",
      "Epoch 29/100\n",
      "137/137 [==============================] - 13s 93ms/step - loss: 0.0940 - accuracy: 0.9651 - val_loss: 0.4489 - val_accuracy: 0.8767\n",
      "Epoch 30/100\n",
      "137/137 [==============================] - 14s 97ms/step - loss: 0.0933 - accuracy: 0.9658 - val_loss: 0.5703 - val_accuracy: 0.8676\n",
      "Epoch 31/100\n",
      "137/137 [==============================] - 14s 100ms/step - loss: 0.0821 - accuracy: 0.9717 - val_loss: 0.4317 - val_accuracy: 0.8767\n",
      "Epoch 32/100\n",
      "137/137 [==============================] - 14s 101ms/step - loss: 0.0746 - accuracy: 0.9733 - val_loss: 0.6787 - val_accuracy: 0.8457\n",
      "Epoch 33/100\n",
      "137/137 [==============================] - 14s 97ms/step - loss: 0.0918 - accuracy: 0.9655 - val_loss: 0.4729 - val_accuracy: 0.8731\n",
      "Epoch 34/100\n",
      "137/137 [==============================] - 13s 95ms/step - loss: 0.0794 - accuracy: 0.9715 - val_loss: 0.5293 - val_accuracy: 0.8776\n",
      "Epoch 35/100\n",
      "137/137 [==============================] - 13s 95ms/step - loss: 0.0778 - accuracy: 0.9742 - val_loss: 0.4722 - val_accuracy: 0.8776\n",
      "Epoch 36/100\n",
      "137/137 [==============================] - 13s 94ms/step - loss: 0.0759 - accuracy: 0.9717 - val_loss: 0.5338 - val_accuracy: 0.8731\n",
      "Epoch 37/100\n",
      "137/137 [==============================] - 13s 93ms/step - loss: 0.0692 - accuracy: 0.9772 - val_loss: 0.5367 - val_accuracy: 0.8840\n",
      "Epoch 38/100\n",
      "137/137 [==============================] - 13s 93ms/step - loss: 0.0700 - accuracy: 0.9770 - val_loss: 0.5552 - val_accuracy: 0.8785\n",
      "Epoch 39/100\n",
      "137/137 [==============================] - 13s 93ms/step - loss: 0.0484 - accuracy: 0.9820 - val_loss: 0.4642 - val_accuracy: 0.8950\n",
      "Epoch 40/100\n",
      "137/137 [==============================] - 13s 93ms/step - loss: 0.0537 - accuracy: 0.9795 - val_loss: 0.5672 - val_accuracy: 0.8831\n",
      "Epoch 41/100\n",
      "137/137 [==============================] - 13s 93ms/step - loss: 0.0900 - accuracy: 0.9694 - val_loss: 0.4898 - val_accuracy: 0.8822\n",
      "Epoch 42/100\n",
      "137/137 [==============================] - 13s 92ms/step - loss: 0.0719 - accuracy: 0.9738 - val_loss: 0.4749 - val_accuracy: 0.8886\n",
      "Epoch 43/100\n",
      "137/137 [==============================] - 13s 94ms/step - loss: 0.0694 - accuracy: 0.9763 - val_loss: 0.5458 - val_accuracy: 0.8840\n",
      "Epoch 44/100\n",
      "137/137 [==============================] - 13s 93ms/step - loss: 0.0501 - accuracy: 0.9827 - val_loss: 0.5173 - val_accuracy: 0.8849\n",
      "Epoch 45/100\n",
      "137/137 [==============================] - 13s 94ms/step - loss: 0.0648 - accuracy: 0.9763 - val_loss: 0.5039 - val_accuracy: 0.8840\n",
      "Epoch 46/100\n",
      "137/137 [==============================] - 13s 96ms/step - loss: 0.0705 - accuracy: 0.9747 - val_loss: 0.4639 - val_accuracy: 0.9014\n",
      "Epoch 47/100\n",
      "137/137 [==============================] - 13s 94ms/step - loss: 0.0635 - accuracy: 0.9765 - val_loss: 0.4841 - val_accuracy: 0.8886\n",
      "Epoch 48/100\n",
      "137/137 [==============================] - 13s 93ms/step - loss: 0.0534 - accuracy: 0.9811 - val_loss: 0.5289 - val_accuracy: 0.8831\n",
      "Epoch 49/100\n",
      "137/137 [==============================] - 13s 94ms/step - loss: 0.0559 - accuracy: 0.9792 - val_loss: 0.5672 - val_accuracy: 0.8721\n",
      "Epoch 50/100\n",
      "137/137 [==============================] - 13s 94ms/step - loss: 0.0610 - accuracy: 0.9786 - val_loss: 0.5279 - val_accuracy: 0.8831\n",
      "Epoch 51/100\n",
      "137/137 [==============================] - 13s 94ms/step - loss: 0.0692 - accuracy: 0.9770 - val_loss: 0.5669 - val_accuracy: 0.8630\n",
      "Epoch 52/100\n",
      "137/137 [==============================] - 13s 93ms/step - loss: 0.0537 - accuracy: 0.9827 - val_loss: 0.5315 - val_accuracy: 0.9005\n",
      "Epoch 53/100\n",
      "137/137 [==============================] - 13s 94ms/step - loss: 0.0551 - accuracy: 0.9820 - val_loss: 0.4968 - val_accuracy: 0.8959\n",
      "Epoch 54/100\n",
      "137/137 [==============================] - 13s 94ms/step - loss: 0.0462 - accuracy: 0.9829 - val_loss: 0.4630 - val_accuracy: 0.9032\n",
      "Epoch 55/100\n",
      "137/137 [==============================] - 13s 93ms/step - loss: 0.0466 - accuracy: 0.9840 - val_loss: 0.5280 - val_accuracy: 0.8868\n",
      "Epoch 56/100\n",
      "137/137 [==============================] - 13s 93ms/step - loss: 0.0439 - accuracy: 0.9843 - val_loss: 0.5529 - val_accuracy: 0.8858\n",
      "Epoch 57/100\n",
      "137/137 [==============================] - 13s 93ms/step - loss: 0.0430 - accuracy: 0.9845 - val_loss: 0.5890 - val_accuracy: 0.8858\n",
      "Epoch 58/100\n",
      "137/137 [==============================] - 13s 93ms/step - loss: 0.0521 - accuracy: 0.9831 - val_loss: 0.6180 - val_accuracy: 0.8795\n",
      "Epoch 59/100\n",
      "137/137 [==============================] - 13s 93ms/step - loss: 0.0499 - accuracy: 0.9831 - val_loss: 0.5117 - val_accuracy: 0.8877\n",
      "Epoch 60/100\n",
      "137/137 [==============================] - 13s 93ms/step - loss: 0.0338 - accuracy: 0.9879 - val_loss: 0.8235 - val_accuracy: 0.8740\n",
      "Epoch 61/100\n",
      "137/137 [==============================] - 13s 93ms/step - loss: 0.0542 - accuracy: 0.9833 - val_loss: 0.5687 - val_accuracy: 0.8986\n",
      "Epoch 62/100\n",
      "137/137 [==============================] - 13s 93ms/step - loss: 0.0396 - accuracy: 0.9875 - val_loss: 0.5191 - val_accuracy: 0.8932\n",
      "Epoch 63/100\n",
      "137/137 [==============================] - 13s 93ms/step - loss: 0.0434 - accuracy: 0.9849 - val_loss: 0.5157 - val_accuracy: 0.9005\n",
      "Epoch 64/100\n",
      "137/137 [==============================] - 13s 93ms/step - loss: 0.0297 - accuracy: 0.9900 - val_loss: 0.6206 - val_accuracy: 0.8922\n",
      "Epoch 65/100\n",
      "137/137 [==============================] - 13s 93ms/step - loss: 0.0518 - accuracy: 0.9797 - val_loss: 0.5834 - val_accuracy: 0.8767\n",
      "Epoch 66/100\n",
      "137/137 [==============================] - 13s 93ms/step - loss: 0.0519 - accuracy: 0.9806 - val_loss: 0.6027 - val_accuracy: 0.8858\n",
      "Epoch 67/100\n",
      "137/137 [==============================] - 13s 94ms/step - loss: 0.0491 - accuracy: 0.9845 - val_loss: 0.5544 - val_accuracy: 0.8886\n",
      "Epoch 68/100\n",
      "137/137 [==============================] - 13s 94ms/step - loss: 0.0444 - accuracy: 0.9843 - val_loss: 0.5156 - val_accuracy: 0.8922\n",
      "Epoch 69/100\n",
      "137/137 [==============================] - 13s 95ms/step - loss: 0.0552 - accuracy: 0.9797 - val_loss: 0.5500 - val_accuracy: 0.8795\n",
      "Epoch 70/100\n",
      "137/137 [==============================] - 14s 98ms/step - loss: 0.0509 - accuracy: 0.9802 - val_loss: 0.6208 - val_accuracy: 0.8904\n",
      "Epoch 71/100\n",
      "137/137 [==============================] - 15s 104ms/step - loss: 0.0435 - accuracy: 0.9829 - val_loss: 0.6698 - val_accuracy: 0.8849\n",
      "Epoch 72/100\n",
      "137/137 [==============================] - 14s 103ms/step - loss: 0.0568 - accuracy: 0.9820 - val_loss: 0.7112 - val_accuracy: 0.8749\n",
      "Epoch 73/100\n",
      "137/137 [==============================] - 14s 101ms/step - loss: 0.0518 - accuracy: 0.9820 - val_loss: 0.6769 - val_accuracy: 0.8785\n",
      "Epoch 74/100\n",
      "137/137 [==============================] - 14s 101ms/step - loss: 0.0283 - accuracy: 0.9895 - val_loss: 0.6063 - val_accuracy: 0.8877\n",
      "Epoch 75/100\n",
      "137/137 [==============================] - 14s 102ms/step - loss: 0.0617 - accuracy: 0.9802 - val_loss: 0.6184 - val_accuracy: 0.8840\n",
      "Epoch 76/100\n",
      "137/137 [==============================] - 14s 103ms/step - loss: 0.0496 - accuracy: 0.9838 - val_loss: 0.5895 - val_accuracy: 0.8977\n",
      "Epoch 77/100\n",
      "137/137 [==============================] - 15s 105ms/step - loss: 0.0435 - accuracy: 0.9838 - val_loss: 0.5829 - val_accuracy: 0.9005\n",
      "Epoch 78/100\n",
      "137/137 [==============================] - 15s 104ms/step - loss: 0.0510 - accuracy: 0.9820 - val_loss: 0.5845 - val_accuracy: 0.8932\n",
      "Epoch 79/100\n",
      "137/137 [==============================] - 14s 103ms/step - loss: 0.0306 - accuracy: 0.9888 - val_loss: 0.6147 - val_accuracy: 0.8849\n",
      "Epoch 80/100\n",
      "137/137 [==============================] - 15s 104ms/step - loss: 0.0284 - accuracy: 0.9895 - val_loss: 0.5991 - val_accuracy: 0.8904\n",
      "Epoch 81/100\n",
      "137/137 [==============================] - 15s 107ms/step - loss: 0.0472 - accuracy: 0.9822 - val_loss: 0.6883 - val_accuracy: 0.8785\n",
      "Epoch 82/100\n",
      "137/137 [==============================] - 15s 107ms/step - loss: 0.0425 - accuracy: 0.9829 - val_loss: 0.5879 - val_accuracy: 0.8904\n",
      "Epoch 83/100\n",
      "137/137 [==============================] - 15s 110ms/step - loss: 0.0576 - accuracy: 0.9817 - val_loss: 0.6457 - val_accuracy: 0.8932\n",
      "Epoch 84/100\n",
      "137/137 [==============================] - 15s 108ms/step - loss: 0.0299 - accuracy: 0.9881 - val_loss: 0.5894 - val_accuracy: 0.9050\n",
      "Epoch 85/100\n",
      "137/137 [==============================] - 15s 107ms/step - loss: 0.0348 - accuracy: 0.9879 - val_loss: 0.6698 - val_accuracy: 0.8895\n",
      "Epoch 86/100\n",
      "137/137 [==============================] - 15s 106ms/step - loss: 0.0380 - accuracy: 0.9859 - val_loss: 0.6152 - val_accuracy: 0.8895\n",
      "Epoch 87/100\n",
      "137/137 [==============================] - 15s 110ms/step - loss: 0.0846 - accuracy: 0.9719 - val_loss: 0.5270 - val_accuracy: 0.8941\n",
      "Epoch 88/100\n",
      "137/137 [==============================] - 16s 115ms/step - loss: 0.0433 - accuracy: 0.9845 - val_loss: 0.6782 - val_accuracy: 0.8877\n",
      "Epoch 89/100\n",
      "137/137 [==============================] - 16s 114ms/step - loss: 0.0283 - accuracy: 0.9902 - val_loss: 0.6573 - val_accuracy: 0.8877\n",
      "Epoch 90/100\n",
      "137/137 [==============================] - 16s 111ms/step - loss: 0.0257 - accuracy: 0.9904 - val_loss: 0.6010 - val_accuracy: 0.8868\n",
      "Epoch 91/100\n",
      "137/137 [==============================] - 16s 116ms/step - loss: 0.0164 - accuracy: 0.9950 - val_loss: 0.6752 - val_accuracy: 0.8904\n",
      "Epoch 92/100\n",
      "137/137 [==============================] - 16s 115ms/step - loss: 0.0236 - accuracy: 0.9922 - val_loss: 0.6357 - val_accuracy: 0.8950\n",
      "Epoch 93/100\n",
      "137/137 [==============================] - 15s 106ms/step - loss: 0.0426 - accuracy: 0.9859 - val_loss: 0.8611 - val_accuracy: 0.8612\n",
      "Epoch 94/100\n",
      "137/137 [==============================] - 15s 106ms/step - loss: 0.0428 - accuracy: 0.9859 - val_loss: 0.7577 - val_accuracy: 0.8831\n",
      "Epoch 95/100\n",
      "137/137 [==============================] - 15s 109ms/step - loss: 0.0221 - accuracy: 0.9920 - val_loss: 0.7138 - val_accuracy: 0.8831\n",
      "Epoch 96/100\n",
      "137/137 [==============================] - 14s 104ms/step - loss: 0.0183 - accuracy: 0.9941 - val_loss: 0.6926 - val_accuracy: 0.8932\n",
      "Epoch 97/100\n",
      "137/137 [==============================] - 14s 102ms/step - loss: 0.0451 - accuracy: 0.9856 - val_loss: 0.6741 - val_accuracy: 0.8895\n",
      "Epoch 98/100\n",
      "137/137 [==============================] - 14s 102ms/step - loss: 0.0226 - accuracy: 0.9925 - val_loss: 0.6032 - val_accuracy: 0.8904\n",
      "Epoch 99/100\n",
      "137/137 [==============================] - 14s 102ms/step - loss: 0.0433 - accuracy: 0.9872 - val_loss: 0.5957 - val_accuracy: 0.8858\n",
      "Epoch 100/100\n",
      "137/137 [==============================] - 14s 102ms/step - loss: 0.0306 - accuracy: 0.9888 - val_loss: 0.6388 - val_accuracy: 0.8840\n"
     ]
    }
   ],
   "source": [
    "nor_lay = tf.keras.layers.Rescaling(1./255,input_shape =(128,128,3))\n",
    "\n",
    "model = Sequential()\n",
    "model.add(nor_lay)\n",
    "model.add(layers.Conv2D(filters =32,kernel_size = (5,5),strides =2,padding = 'same',activation ='relu'))\n",
    "model.add(layers.MaxPooling2D(pool_size = (5,5),strides = 2,padding = 'same'))\n",
    "model.add(layers.Conv2D(filters =32,kernel_size = (5,5),strides =2,padding = 'same',activation ='relu'))\n",
    "model.add(layers.MaxPooling2D(pool_size = (5,5),strides = 2,padding = 'same'))\n",
    "model.add(layers.Dropout(0.2))\n",
    "model.add(layers.Flatten())\n",
    "model.add(layers.Dropout(0.2))\n",
    "model.add(layers.Dense(units = 128,activation ='relu'))\n",
    "model.add(layers.Dense(units =4,kernel_initializer =initializers.random_normal(stddev=0.01),activation ='softmax'))\n",
    "    \n",
    "model.compile(optimizer= tf.optimizers.Adam(learning_rate =0.001),\n",
    "              loss =tf.keras.losses.SparseCategoricalCrossentropy(from_logits = False),\n",
    "              metrics = 'accuracy',\n",
    "             )\n",
    "\n",
    "epoch_num = 100\n",
    "history = model.fit(train_ds,validation_data = test_ds,epochs = epoch_num)"
   ]
  },
  {
   "cell_type": "code",
   "execution_count": 12,
   "id": "9d52cc85",
   "metadata": {},
   "outputs": [
    {
     "data": {
      "image/png": "[encoded data removed]",
      "text/plain": [
       "<Figure size 432x288 with 1 Axes>"
      ]
     },
     "metadata": {
      "needs_background": "light"
     },
     "output_type": "display_data"
    },
    {
     "data": {
      "image/png": "[encoded data removed]",
      "text/plain": [
       "<Figure size 432x288 with 1 Axes>"
      ]
     },
     "metadata": {
      "needs_background": "light"
     },
     "output_type": "display_data"
    }
   ],
   "source": [
    "plt.plot(range(epoch_num),history.history['accuracy'])\n",
    "plt.plot(range(epoch_num),history.history['val_accuracy'])\n",
    "plt.title(' Training & Validation Accuracy')\n",
    "plt.ylabel('Accuracy')\n",
    "plt.xlabel('Epoch')\n",
    "plt.legend(['train', 'test'], loc='lower left') \n",
    "plt.show()\n",
    "\n",
    "\n",
    "plt.plot(range(epoch_num),history.history['loss'])\n",
    "plt.plot(range(epoch_num),history.history['val_loss'])\n",
    "plt.title('Training & Validation Loss')\n",
    "plt.ylabel('Loss')\n",
    "plt.xlabel('epoch')\n",
    "plt.legend(['train', 'test'], loc='upper left') \n",
    "plt.show()"
   ]
  },
  {
   "cell_type": "code",
   "execution_count": 13,
   "id": "c0be677e",
   "metadata": {},
   "outputs": [
    {
     "name": "stdout",
     "output_type": "stream",
     "text": [
      "Model: \"sequential_5\"\n",
      "_________________________________________________________________\n",
      " Layer (type)                Output Shape              Param #   \n",
      "=================================================================\n",
      " rescaling_5 (Rescaling)     (None, 128, 128, 3)       0         \n",
      "                                                                 \n",
      " conv2d_6 (Conv2D)           (None, 64, 64, 32)        2432      \n",
      "                                                                 \n",
      " max_pooling2d_8 (MaxPooling  (None, 32, 32, 32)       0         \n",
      " 2D)                                                             \n",
      "                                                                 \n",
      " conv2d_7 (Conv2D)           (None, 16, 16, 32)        25632     \n",
      "                                                                 \n",
      " max_pooling2d_9 (MaxPooling  (None, 8, 8, 32)         0         \n",
      " 2D)                                                             \n",
      "                                                                 \n",
      " dropout_9 (Dropout)         (None, 8, 8, 32)          0         \n",
      "                                                                 \n",
      " flatten_4 (Flatten)         (None, 2048)              0         \n",
      "                                                                 \n",
      " dropout_10 (Dropout)        (None, 2048)              0         \n",
      "                                                                 \n",
      " dense_8 (Dense)             (None, 128)               262272    \n",
      "                                                                 \n",
      " dense_9 (Dense)             (None, 4)                 516       \n",
      "                                                                 \n",
      "=================================================================\n",
      "Total params: 290,852\n",
      "Trainable params: 290,852\n",
      "Non-trainable params: 0\n",
      "_________________________________________________________________\n"
     ]
    }
   ],
   "source": [
    "#model.summary:\n",
    "model.save('m.h5')\n",
    "model.summary()"
   ]
  },
  {
   "cell_type": "code",
   "execution_count": 14,
   "id": "d4451ebf",
   "metadata": {},
   "outputs": [
    {
     "name": "stdout",
     "output_type": "stream",
     "text": [
      "    Evaluate on test data:   \n",
      "35/35 [==============================] - 1s 29ms/step - loss: 0.6388 - accuracy: 0.8840\n",
      "test loss & test acc : [0.638752818107605, 0.8840182423591614]\n"
     ]
    }
   ],
   "source": [
    "# Q4:evaluate the test data:\n",
    "print('    Evaluate on test data:   ')\n",
    "result = model.evaluate(test_ds, verbose=1)\n",
    "print(\"test loss & test acc :\",result)\n"
   ]
  },
  {
   "cell_type": "code",
   "execution_count": 15,
   "id": "200f4423",
   "metadata": {
    "scrolled": true
   },
   "outputs": [
    {
     "name": "stdout",
     "output_type": "stream",
     "text": [
      "Predict on test data\n",
      "35/35 [==============================] - 1s 30ms/step\n",
      "1095\n",
      "[[2.2494394e-04 9.8435294e-06 9.9976522e-01 2.1537059e-09]\n",
      " [9.9976069e-01 1.0757259e-14 2.3934753e-04 1.7938131e-12]\n",
      " [1.0123175e-06 2.7153696e-06 9.9999630e-01 4.4905564e-14]\n",
      " ...\n",
      " [8.8705063e-02 7.1082432e-03 6.8044406e-01 2.2374269e-01]\n",
      " [7.9069395e-07 5.1162505e-09 9.9999917e-01 2.1302496e-13]\n",
      " [1.0000000e+00 2.6187127e-11 2.6928609e-08 9.7359308e-12]]\n"
     ]
    }
   ],
   "source": [
    "#Q5:predict the test data:\n",
    "print(\"Predict on test data\")\n",
    "prediction = model.predict(test_ds,verbose =1)\n",
    "l = len(prediction)\n",
    "print(l)\n",
    "print(prediction)"
   ]
  },
  {
   "cell_type": "code",
   "execution_count": 17,
   "id": "ebcd53bf",
   "metadata": {},
   "outputs": [
    {
     "name": "stdout",
     "output_type": "stream",
     "text": [
      "1095\n"
     ]
    }
   ],
   "source": [
    "prediction_list=[]\n",
    "for i in prediction:\n",
    "    t = np.array(i)\n",
    "    mid = np.argmax(t)\n",
    "    prediction_list.append(mid)\n",
    "print(len(prediction_list))"
   ]
  },
  {
   "cell_type": "code",
   "execution_count": 19,
   "id": "0e8bb9b5",
   "metadata": {},
   "outputs": [
    {
     "name": "stdout",
     "output_type": "stream",
     "text": [
      "1095\n",
      "0-->jerry\n",
      "1-->tom\n",
      "2-->tom_jerry_0\n",
      "3-->tom_jerry_1\n"
     ]
    },
    {
     "data": {
      "image/png": "[encoded data removed]",
      "text/plain": [
       "<Figure size 288x288 with 2 Axes>"
      ]
     },
     "metadata": {
      "needs_background": "light"
     },
     "output_type": "display_data"
    }
   ],
   "source": [
    "test_ds_list = []\n",
    "test_labels =  np.array([])\n",
    "for x, y in test_ds:\n",
    "    test_labels = np.concatenate([test_labels, y.numpy()])\n",
    "test_labels.shape\n",
    "print(len(test_labels))\n",
    "for i in test_labels:\n",
    "    test_ds_list.append(i)\n",
    "\n",
    "\n",
    "#make the confusion matrix:\n",
    "print(\"0-->jerry\")\n",
    "print(\"1-->tom\")\n",
    "print(\"2-->tom_jerry_0\")\n",
    "print(\"3-->tom_jerry_1\")\n",
    "from sklearn.metrics import confusion_matrix\n",
    "matrix = confusion_matrix(test_ds_list,prediction_list)\n",
    "plt.matshow(matrix,cmap=plt.cm.Blues,alpha = 0.5)\n",
    "plt.colorbar()\n",
    "plt.ylabel(\"True label\",fontweight='bold')\n",
    "plt.xlabel(\"Predict label\",fontweight='bold')\n",
    "plt.title(\"Confusion Matrix\")\n",
    "plt.show()\n",
    "\n"
   ]
  },
  {
   "cell_type": "code",
   "execution_count": null,
   "id": "7169439e",
   "metadata": {},
   "outputs": [],
   "source": []
  }
 ],
 "metadata": {
  "kernelspec": {
   "display_name": "Python 3 (ipykernel)",
   "language": "python",
   "name": "python3"
  },
  "language_info": {
   "codemirror_mode": {
    "name": "ipython",
    "version": 3
   },
   "file_extension": ".py",
   "mimetype": "text/x-python",
   "name": "python",
   "nbconvert_exporter": "python",
   "pygments_lexer": "ipython3",
   "version": "3.9.12"
  }
 },
 "nbformat": 4,
 "nbformat_minor": 5
}
