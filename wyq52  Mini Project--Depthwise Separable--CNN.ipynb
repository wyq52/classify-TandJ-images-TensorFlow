{
 "cells": [
  {
   "cell_type": "code",
   "execution_count": 32,
   "id": "c1567656",
   "metadata": {},
   "outputs": [],
   "source": [
    "#import the packages:\n",
    "import tensorflow as tf\n",
    "import matplotlib.pyplot as plt\n",
    "import numpy as np\n",
    "import sklearn\n",
    "from tensorflow import keras\n",
    "from tensorflow.keras.models import Sequential\n",
    "from tensorflow.keras import layers\n",
    "from keras import initializers"
   ]
  },
  {
   "cell_type": "code",
   "execution_count": 33,
   "id": "f5fb65c3",
   "metadata": {},
   "outputs": [
    {
     "name": "stdout",
     "output_type": "stream",
     "text": [
      "Found 5478 files belonging to 4 classes.\n",
      "Using 4383 files for training.\n",
      "Found 5478 files belonging to 4 classes.\n",
      "Using 1095 files for validation.\n"
     ]
    }
   ],
   "source": [
    "image_path = \"/Users/wangyingqi/Desktop/Tom and Jerry/tom_and_jerry/tom_and_jerry\"\n",
    "\n",
    "#create dataset of training\n",
    "train_ds = tf.keras.preprocessing.image_dataset_from_directory(\n",
    "    image_path ,\n",
    "    labels = \"inferred\",\n",
    "    label_mode = \"int\",\n",
    "    batch_size =32,\n",
    "    image_size =(128,128),\n",
    "    shuffle = True,\n",
    "    seed = 123,\n",
    "    validation_split = 0.2,\n",
    "    subset = \"training\",\n",
    ")\n",
    "#create dataset of validing\n",
    "test_ds = tf.keras.preprocessing.image_dataset_from_directory(\n",
    "    image_path ,\n",
    "    labels = \"inferred\",\n",
    "    label_mode = \"int\",\n",
    "    batch_size =32,\n",
    "    image_size =(128,128),\n",
    "    shuffle = True,\n",
    "    seed = 123,\n",
    "    validation_split = 0.2,\n",
    "    subset = \"validation\",\n",
    ")\n",
    "\n",
    "\n"
   ]
  },
  {
   "cell_type": "code",
   "execution_count": 96,
   "id": "838ab581",
   "metadata": {
    "scrolled": false
   },
   "outputs": [
    {
     "name": "stdout",
     "output_type": "stream",
     "text": [
      "Epoch 1/25\n",
      "137/137 [==============================] - 7s 50ms/step - loss: 1.3443 - accuracy: 0.3415 - val_loss: 1.3155 - val_accuracy: 0.3863\n",
      "Epoch 2/25\n",
      "137/137 [==============================] - 7s 52ms/step - loss: 1.2118 - accuracy: 0.4565 - val_loss: 1.0869 - val_accuracy: 0.4941\n",
      "Epoch 3/25\n",
      "137/137 [==============================] - 8s 53ms/step - loss: 1.0469 - accuracy: 0.5558 - val_loss: 1.0455 - val_accuracy: 0.5753\n",
      "Epoch 4/25\n",
      "137/137 [==============================] - 8s 55ms/step - loss: 0.9503 - accuracy: 0.5991 - val_loss: 0.9613 - val_accuracy: 0.6155\n",
      "Epoch 5/25\n",
      "137/137 [==============================] - 8s 57ms/step - loss: 0.8836 - accuracy: 0.6407 - val_loss: 0.9258 - val_accuracy: 0.6311\n",
      "Epoch 6/25\n",
      "137/137 [==============================] - 8s 55ms/step - loss: 0.7875 - accuracy: 0.6742 - val_loss: 0.8803 - val_accuracy: 0.6630\n",
      "Epoch 7/25\n",
      "137/137 [==============================] - 8s 54ms/step - loss: 0.7349 - accuracy: 0.7086 - val_loss: 0.8767 - val_accuracy: 0.6548\n",
      "Epoch 8/25\n",
      "137/137 [==============================] - 8s 54ms/step - loss: 0.6901 - accuracy: 0.7317 - val_loss: 0.7865 - val_accuracy: 0.7068\n",
      "Epoch 9/25\n",
      "137/137 [==============================] - 8s 55ms/step - loss: 0.6493 - accuracy: 0.7390 - val_loss: 0.7878 - val_accuracy: 0.6932\n",
      "Epoch 10/25\n",
      "137/137 [==============================] - 8s 55ms/step - loss: 0.6086 - accuracy: 0.7582 - val_loss: 0.8611 - val_accuracy: 0.6740\n",
      "Epoch 11/25\n",
      "137/137 [==============================] - 8s 56ms/step - loss: 0.5966 - accuracy: 0.7725 - val_loss: 0.8141 - val_accuracy: 0.7005\n",
      "Epoch 12/25\n",
      "137/137 [==============================] - 8s 55ms/step - loss: 0.5604 - accuracy: 0.7817 - val_loss: 0.7685 - val_accuracy: 0.7297\n",
      "Epoch 13/25\n",
      "137/137 [==============================] - 8s 55ms/step - loss: 0.5157 - accuracy: 0.8045 - val_loss: 0.7310 - val_accuracy: 0.7489\n",
      "Epoch 14/25\n",
      "137/137 [==============================] - 8s 56ms/step - loss: 0.5219 - accuracy: 0.7956 - val_loss: 0.8074 - val_accuracy: 0.7297\n",
      "Epoch 15/25\n",
      "137/137 [==============================] - 8s 56ms/step - loss: 0.5058 - accuracy: 0.7983 - val_loss: 0.7710 - val_accuracy: 0.7461\n",
      "Epoch 16/25\n",
      "137/137 [==============================] - 8s 56ms/step - loss: 0.4917 - accuracy: 0.8074 - val_loss: 0.7662 - val_accuracy: 0.7379\n",
      "Epoch 17/25\n",
      "137/137 [==============================] - 8s 57ms/step - loss: 0.4637 - accuracy: 0.8216 - val_loss: 0.8241 - val_accuracy: 0.7196\n",
      "Epoch 18/25\n",
      "137/137 [==============================] - 8s 57ms/step - loss: 0.4459 - accuracy: 0.8284 - val_loss: 0.9563 - val_accuracy: 0.6950\n",
      "Epoch 19/25\n",
      "137/137 [==============================] - 8s 58ms/step - loss: 0.4446 - accuracy: 0.8348 - val_loss: 0.7835 - val_accuracy: 0.7507\n",
      "Epoch 20/25\n",
      "137/137 [==============================] - 8s 57ms/step - loss: 0.4114 - accuracy: 0.8437 - val_loss: 0.8138 - val_accuracy: 0.7406\n",
      "Epoch 21/25\n",
      "137/137 [==============================] - 8s 57ms/step - loss: 0.4157 - accuracy: 0.8444 - val_loss: 0.8076 - val_accuracy: 0.7553\n",
      "Epoch 22/25\n",
      "137/137 [==============================] - 8s 60ms/step - loss: 0.4009 - accuracy: 0.8496 - val_loss: 0.9526 - val_accuracy: 0.7151\n",
      "Epoch 23/25\n",
      "137/137 [==============================] - 8s 60ms/step - loss: 0.4453 - accuracy: 0.8382 - val_loss: 0.7576 - val_accuracy: 0.7562\n",
      "Epoch 24/25\n",
      "137/137 [==============================] - 8s 60ms/step - loss: 0.3873 - accuracy: 0.8535 - val_loss: 0.8897 - val_accuracy: 0.7443\n",
      "Epoch 25/25\n",
      "137/137 [==============================] - 8s 60ms/step - loss: 0.3844 - accuracy: 0.8556 - val_loss: 0.8647 - val_accuracy: 0.7452\n"
     ]
    }
   ],
   "source": [
    "#build the model of CNN:\n",
    "input_size=(128,128,3)\n",
    "nor_lay = tf.keras.laye5rs.Rescaling(1./255,input_shape =input_size)\n",
    "\n",
    "model = Sequential()\n",
    "model.add(nor_lay)\n",
    "model.add(layers. SeparableConv2D(filters =32,kernel_size = (3,3),strides =2,activation ='relu',padding = 'same',depth_multiplier=1))\n",
    "model.add(layers.MaxPooling2D(pool_size = (3,3),strides = 2,padding = 'same'))\n",
    "model.add(layers. SeparableConv2D(filters =32,kernel_size = (3,3),strides =2,activation ='relu',padding = 'same',depth_multiplier=1))\n",
    "model.add(layers.MaxPooling2D(pool_size = (3,3),strides = 2,padding = 'same'))\n",
    "model.add(layers.Dropout(0.2))\n",
    "model.add(layers.Flatten())\n",
    "model.add(layers.Dropout(0.2))\n",
    "model.add(layers.Dense(units = 64,activation ='relu'))\n",
    "model.add(layers.Dense(units =4,kernel_initializer =initializers.random_normal(stddev=0.01),activation ='softmax'))\n",
    "    \n",
    "model.compile(optimizer= tf.optimizers.Adam(learning_rate =0.01),\n",
    "              loss =tf.keras.losses.SparseCategoricalCrossentropy(from_logits = False),\n",
    "              metrics = 'accuracy',\n",
    "             )\n",
    "\n",
    "epoch_num = 25\n",
    "history = model.fit(train_ds,validation_data = test_ds,epochs = epoch_num)\n",
    "\n"
   ]
  },
  {
   "cell_type": "code",
   "execution_count": 97,
   "id": "1fac32b9",
   "metadata": {
    "scrolled": true
   },
   "outputs": [
    {
     "data": {
      "image/png": "[encoded data removed]",
      "text/plain": [
       "<Figure size 432x288 with 1 Axes>"
      ]
     },
     "metadata": {
      "needs_background": "light"
     },
     "output_type": "display_data"
    },
    {
     "data": {
      "image/png": "[encoded data removed]",
      "text/plain": [
       "<Figure size 432x288 with 1 Axes>"
      ]
     },
     "metadata": {
      "needs_background": "light"
     },
     "output_type": "display_data"
    }
   ],
   "source": [
    "#make the image of the accuracy & loss of training and validation\n",
    "#model compile first\n",
    "\n",
    "plt.plot(range(epoch_num),history.history['accuracy'])\n",
    "plt.plot(range(epoch_num),history.history['val_accuracy'])\n",
    "plt.title(' Training & Validation Accuracy')\n",
    "plt.ylabel('Accuracy')\n",
    "plt.xlabel('Epoch')\n",
    "plt.legend(['train', 'test'], loc='lower left') \n",
    "plt.show()\n",
    "\n",
    "\n",
    "plt.plot(range(epoch_num),history.history['loss'])\n",
    "plt.plot(range(epoch_num),history.history['val_loss'])\n",
    "plt.title('Training & Validation Loss')\n",
    "plt.ylabel('Loss')\n",
    "plt.xlabel('epoch')\n",
    "plt.legend(['train', 'test'], loc='upper left') \n",
    "plt.show()"
   ]
  },
  {
   "cell_type": "code",
   "execution_count": 100,
   "id": "faeecd1e",
   "metadata": {},
   "outputs": [
    {
     "name": "stdout",
     "output_type": "stream",
     "text": [
      "Epoch 1/100\n",
      "137/137 [==============================] - 8s 55ms/step - loss: 1.3442 - accuracy: 0.3488 - val_loss: 1.3301 - val_accuracy: 0.3653\n",
      "Epoch 2/100\n",
      "137/137 [==============================] - 8s 55ms/step - loss: 1.3222 - accuracy: 0.3589 - val_loss: 1.2929 - val_accuracy: 0.4192\n",
      "Epoch 3/100\n",
      "137/137 [==============================] - 8s 57ms/step - loss: 1.2520 - accuracy: 0.4337 - val_loss: 1.2404 - val_accuracy: 0.4100\n",
      "Epoch 4/100\n",
      "137/137 [==============================] - 8s 58ms/step - loss: 1.1351 - accuracy: 0.5090 - val_loss: 1.0355 - val_accuracy: 0.5653\n",
      "Epoch 5/100\n",
      "137/137 [==============================] - 8s 59ms/step - loss: 1.0121 - accuracy: 0.5838 - val_loss: 0.9428 - val_accuracy: 0.6100\n",
      "Epoch 6/100\n",
      "137/137 [==============================] - 8s 59ms/step - loss: 0.9445 - accuracy: 0.6158 - val_loss: 0.8755 - val_accuracy: 0.6548\n",
      "Epoch 7/100\n",
      "137/137 [==============================] - 8s 59ms/step - loss: 0.8775 - accuracy: 0.6539 - val_loss: 0.8464 - val_accuracy: 0.6712\n",
      "Epoch 8/100\n",
      "137/137 [==============================] - 8s 60ms/step - loss: 0.8143 - accuracy: 0.6899 - val_loss: 0.7900 - val_accuracy: 0.6849\n",
      "Epoch 9/100\n",
      "137/137 [==============================] - 9s 60ms/step - loss: 0.7792 - accuracy: 0.6970 - val_loss: 0.7572 - val_accuracy: 0.7050\n",
      "Epoch 10/100\n",
      "137/137 [==============================] - 9s 60ms/step - loss: 0.7463 - accuracy: 0.7086 - val_loss: 0.8124 - val_accuracy: 0.6831\n",
      "Epoch 11/100\n",
      "137/137 [==============================] - 9s 62ms/step - loss: 0.7057 - accuracy: 0.7344 - val_loss: 0.7301 - val_accuracy: 0.7187\n",
      "Epoch 12/100\n",
      "137/137 [==============================] - 9s 60ms/step - loss: 0.6608 - accuracy: 0.7513 - val_loss: 0.7324 - val_accuracy: 0.7078\n",
      "Epoch 13/100\n",
      "137/137 [==============================] - 8s 60ms/step - loss: 0.6392 - accuracy: 0.7598 - val_loss: 0.6788 - val_accuracy: 0.7352\n",
      "Epoch 14/100\n",
      "137/137 [==============================] - 9s 63ms/step - loss: 0.6152 - accuracy: 0.7671 - val_loss: 0.7120 - val_accuracy: 0.7196\n",
      "Epoch 15/100\n",
      "137/137 [==============================] - 9s 63ms/step - loss: 0.5733 - accuracy: 0.7858 - val_loss: 0.6745 - val_accuracy: 0.7379\n",
      "Epoch 16/100\n",
      "137/137 [==============================] - 9s 65ms/step - loss: 0.5434 - accuracy: 0.7940 - val_loss: 0.6042 - val_accuracy: 0.7699\n",
      "Epoch 17/100\n",
      "137/137 [==============================] - 9s 62ms/step - loss: 0.5361 - accuracy: 0.7979 - val_loss: 0.6310 - val_accuracy: 0.7452\n",
      "Epoch 18/100\n",
      "137/137 [==============================] - 9s 65ms/step - loss: 0.5055 - accuracy: 0.8063 - val_loss: 0.6056 - val_accuracy: 0.7616\n",
      "Epoch 19/100\n",
      "137/137 [==============================] - 9s 64ms/step - loss: 0.4907 - accuracy: 0.8191 - val_loss: 0.5768 - val_accuracy: 0.7726\n",
      "Epoch 20/100\n",
      "137/137 [==============================] - 9s 62ms/step - loss: 0.4618 - accuracy: 0.8259 - val_loss: 0.5390 - val_accuracy: 0.7945\n",
      "Epoch 21/100\n",
      "137/137 [==============================] - 9s 61ms/step - loss: 0.4581 - accuracy: 0.8261 - val_loss: 0.5469 - val_accuracy: 0.7945\n",
      "Epoch 22/100\n",
      "137/137 [==============================] - 9s 61ms/step - loss: 0.4396 - accuracy: 0.8350 - val_loss: 0.5814 - val_accuracy: 0.7744\n",
      "Epoch 23/100\n",
      "137/137 [==============================] - 9s 61ms/step - loss: 0.4119 - accuracy: 0.8430 - val_loss: 0.5792 - val_accuracy: 0.7845\n",
      "Epoch 24/100\n",
      "137/137 [==============================] - 9s 61ms/step - loss: 0.3985 - accuracy: 0.8526 - val_loss: 0.5222 - val_accuracy: 0.8064\n",
      "Epoch 25/100\n",
      "137/137 [==============================] - 9s 61ms/step - loss: 0.3892 - accuracy: 0.8508 - val_loss: 0.4917 - val_accuracy: 0.8174\n",
      "Epoch 26/100\n",
      "137/137 [==============================] - 9s 62ms/step - loss: 0.3810 - accuracy: 0.8583 - val_loss: 0.5124 - val_accuracy: 0.8128\n",
      "Epoch 27/100\n",
      "137/137 [==============================] - 9s 61ms/step - loss: 0.3585 - accuracy: 0.8647 - val_loss: 0.4853 - val_accuracy: 0.8155\n",
      "Epoch 28/100\n",
      "137/137 [==============================] - 9s 62ms/step - loss: 0.3460 - accuracy: 0.8741 - val_loss: 0.4923 - val_accuracy: 0.8201\n",
      "Epoch 29/100\n",
      "137/137 [==============================] - 9s 62ms/step - loss: 0.3378 - accuracy: 0.8690 - val_loss: 0.5294 - val_accuracy: 0.8082\n",
      "Epoch 30/100\n",
      "137/137 [==============================] - 9s 62ms/step - loss: 0.3255 - accuracy: 0.8768 - val_loss: 0.4890 - val_accuracy: 0.8228\n",
      "Epoch 31/100\n",
      "137/137 [==============================] - 9s 63ms/step - loss: 0.3179 - accuracy: 0.8841 - val_loss: 0.4584 - val_accuracy: 0.8429\n",
      "Epoch 32/100\n",
      "137/137 [==============================] - 9s 63ms/step - loss: 0.2938 - accuracy: 0.8891 - val_loss: 0.5033 - val_accuracy: 0.8283\n",
      "Epoch 33/100\n",
      "137/137 [==============================] - 9s 63ms/step - loss: 0.2985 - accuracy: 0.8889 - val_loss: 0.4535 - val_accuracy: 0.8356\n",
      "Epoch 34/100\n",
      "137/137 [==============================] - 9s 65ms/step - loss: 0.2886 - accuracy: 0.8923 - val_loss: 0.4532 - val_accuracy: 0.8320\n",
      "Epoch 35/100\n",
      "137/137 [==============================] - 9s 63ms/step - loss: 0.2808 - accuracy: 0.8921 - val_loss: 0.4695 - val_accuracy: 0.8393\n",
      "Epoch 36/100\n",
      "137/137 [==============================] - 9s 63ms/step - loss: 0.2637 - accuracy: 0.9010 - val_loss: 0.4484 - val_accuracy: 0.8402\n",
      "Epoch 37/100\n",
      "137/137 [==============================] - 9s 63ms/step - loss: 0.2688 - accuracy: 0.8987 - val_loss: 0.5156 - val_accuracy: 0.8283\n",
      "Epoch 38/100\n",
      "137/137 [==============================] - 9s 63ms/step - loss: 0.2532 - accuracy: 0.9062 - val_loss: 0.4955 - val_accuracy: 0.8356\n",
      "Epoch 39/100\n",
      "137/137 [==============================] - 9s 63ms/step - loss: 0.2416 - accuracy: 0.9110 - val_loss: 0.4613 - val_accuracy: 0.8530\n",
      "Epoch 40/100\n",
      "137/137 [==============================] - 9s 63ms/step - loss: 0.2396 - accuracy: 0.9078 - val_loss: 0.4550 - val_accuracy: 0.8511\n",
      "Epoch 41/100\n",
      "137/137 [==============================] - 9s 64ms/step - loss: 0.2369 - accuracy: 0.9106 - val_loss: 0.5039 - val_accuracy: 0.8384\n",
      "Epoch 42/100\n",
      "137/137 [==============================] - 9s 67ms/step - loss: 0.2342 - accuracy: 0.9126 - val_loss: 0.4580 - val_accuracy: 0.8594\n",
      "Epoch 43/100\n",
      "137/137 [==============================] - 9s 64ms/step - loss: 0.2214 - accuracy: 0.9158 - val_loss: 0.4897 - val_accuracy: 0.8457\n",
      "Epoch 44/100\n",
      "137/137 [==============================] - 9s 64ms/step - loss: 0.2159 - accuracy: 0.9211 - val_loss: 0.4535 - val_accuracy: 0.8575\n",
      "Epoch 45/100\n",
      "137/137 [==============================] - 9s 64ms/step - loss: 0.2258 - accuracy: 0.9138 - val_loss: 0.4520 - val_accuracy: 0.8484\n",
      "Epoch 46/100\n",
      "137/137 [==============================] - 9s 64ms/step - loss: 0.2092 - accuracy: 0.9183 - val_loss: 0.4405 - val_accuracy: 0.8603\n",
      "Epoch 47/100\n",
      "137/137 [==============================] - 9s 64ms/step - loss: 0.1908 - accuracy: 0.9236 - val_loss: 0.4847 - val_accuracy: 0.8557\n",
      "Epoch 48/100\n",
      "137/137 [==============================] - 9s 64ms/step - loss: 0.2052 - accuracy: 0.9220 - val_loss: 0.4419 - val_accuracy: 0.8676\n",
      "Epoch 49/100\n",
      "137/137 [==============================] - 9s 63ms/step - loss: 0.1999 - accuracy: 0.9215 - val_loss: 0.4762 - val_accuracy: 0.8621\n",
      "Epoch 50/100\n",
      "137/137 [==============================] - 9s 63ms/step - loss: 0.1900 - accuracy: 0.9334 - val_loss: 0.4573 - val_accuracy: 0.8658\n",
      "Epoch 51/100\n",
      "137/137 [==============================] - 9s 64ms/step - loss: 0.1922 - accuracy: 0.9281 - val_loss: 0.4479 - val_accuracy: 0.8658\n",
      "Epoch 52/100\n",
      "137/137 [==============================] - 9s 64ms/step - loss: 0.1763 - accuracy: 0.9338 - val_loss: 0.4580 - val_accuracy: 0.8621\n",
      "Epoch 53/100\n",
      "137/137 [==============================] - 9s 63ms/step - loss: 0.1732 - accuracy: 0.9361 - val_loss: 0.4878 - val_accuracy: 0.8493\n",
      "Epoch 54/100\n",
      "137/137 [==============================] - 9s 63ms/step - loss: 0.1785 - accuracy: 0.9316 - val_loss: 0.4850 - val_accuracy: 0.8557\n",
      "Epoch 55/100\n",
      "137/137 [==============================] - 9s 63ms/step - loss: 0.1723 - accuracy: 0.9352 - val_loss: 0.4705 - val_accuracy: 0.8575\n",
      "Epoch 56/100\n",
      "137/137 [==============================] - 9s 64ms/step - loss: 0.1847 - accuracy: 0.9316 - val_loss: 0.4710 - val_accuracy: 0.8639\n",
      "Epoch 57/100\n",
      "137/137 [==============================] - 9s 63ms/step - loss: 0.1686 - accuracy: 0.9391 - val_loss: 0.5042 - val_accuracy: 0.8548\n",
      "Epoch 58/100\n",
      "137/137 [==============================] - 9s 63ms/step - loss: 0.1680 - accuracy: 0.9382 - val_loss: 0.5047 - val_accuracy: 0.8493\n",
      "Epoch 59/100\n",
      "137/137 [==============================] - 9s 63ms/step - loss: 0.1766 - accuracy: 0.9304 - val_loss: 0.5039 - val_accuracy: 0.8603\n",
      "Epoch 60/100\n",
      "137/137 [==============================] - 9s 63ms/step - loss: 0.1740 - accuracy: 0.9343 - val_loss: 0.4596 - val_accuracy: 0.8621\n",
      "Epoch 61/100\n",
      "137/137 [==============================] - 9s 63ms/step - loss: 0.1572 - accuracy: 0.9407 - val_loss: 0.4871 - val_accuracy: 0.8621\n",
      "Epoch 62/100\n",
      "137/137 [==============================] - 9s 65ms/step - loss: 0.1479 - accuracy: 0.9452 - val_loss: 0.5442 - val_accuracy: 0.8475\n",
      "Epoch 63/100\n",
      "137/137 [==============================] - 9s 65ms/step - loss: 0.1534 - accuracy: 0.9414 - val_loss: 0.4856 - val_accuracy: 0.8658\n",
      "Epoch 64/100\n",
      "137/137 [==============================] - 9s 64ms/step - loss: 0.1560 - accuracy: 0.9427 - val_loss: 0.4805 - val_accuracy: 0.8612\n",
      "Epoch 65/100\n",
      "137/137 [==============================] - 9s 65ms/step - loss: 0.1425 - accuracy: 0.9478 - val_loss: 0.4943 - val_accuracy: 0.8658\n",
      "Epoch 66/100\n",
      "137/137 [==============================] - 9s 65ms/step - loss: 0.1470 - accuracy: 0.9452 - val_loss: 0.4885 - val_accuracy: 0.8603\n",
      "Epoch 67/100\n",
      "137/137 [==============================] - 9s 66ms/step - loss: 0.1370 - accuracy: 0.9457 - val_loss: 0.4741 - val_accuracy: 0.8621\n",
      "Epoch 68/100\n",
      "137/137 [==============================] - 11s 75ms/step - loss: 0.1503 - accuracy: 0.9446 - val_loss: 0.5016 - val_accuracy: 0.8594\n",
      "Epoch 69/100\n",
      "137/137 [==============================] - 10s 69ms/step - loss: 0.1384 - accuracy: 0.9459 - val_loss: 0.4698 - val_accuracy: 0.8731\n",
      "Epoch 70/100\n",
      "137/137 [==============================] - 10s 68ms/step - loss: 0.1372 - accuracy: 0.9521 - val_loss: 0.5080 - val_accuracy: 0.8676\n",
      "Epoch 71/100\n",
      "137/137 [==============================] - 10s 67ms/step - loss: 0.1346 - accuracy: 0.9521 - val_loss: 0.4948 - val_accuracy: 0.8539\n",
      "Epoch 72/100\n",
      "137/137 [==============================] - 10s 69ms/step - loss: 0.1418 - accuracy: 0.9457 - val_loss: 0.4978 - val_accuracy: 0.8667\n",
      "Epoch 73/100\n",
      "137/137 [==============================] - 10s 71ms/step - loss: 0.1310 - accuracy: 0.9507 - val_loss: 0.4749 - val_accuracy: 0.8630\n",
      "Epoch 74/100\n",
      "137/137 [==============================] - 10s 71ms/step - loss: 0.1280 - accuracy: 0.9539 - val_loss: 0.4913 - val_accuracy: 0.8612\n",
      "Epoch 75/100\n",
      "137/137 [==============================] - 10s 67ms/step - loss: 0.1275 - accuracy: 0.9530 - val_loss: 0.4978 - val_accuracy: 0.8667\n",
      "Epoch 76/100\n",
      "137/137 [==============================] - 9s 65ms/step - loss: 0.1231 - accuracy: 0.9541 - val_loss: 0.5094 - val_accuracy: 0.8685\n",
      "Epoch 77/100\n",
      "137/137 [==============================] - 9s 66ms/step - loss: 0.1183 - accuracy: 0.9546 - val_loss: 0.5133 - val_accuracy: 0.8612\n",
      "Epoch 78/100\n",
      "137/137 [==============================] - 9s 66ms/step - loss: 0.1303 - accuracy: 0.9532 - val_loss: 0.5068 - val_accuracy: 0.8712\n",
      "Epoch 79/100\n",
      "137/137 [==============================] - 9s 66ms/step - loss: 0.1249 - accuracy: 0.9546 - val_loss: 0.4846 - val_accuracy: 0.8694\n",
      "Epoch 80/100\n",
      "137/137 [==============================] - 9s 65ms/step - loss: 0.1339 - accuracy: 0.9489 - val_loss: 0.4962 - val_accuracy: 0.8676\n",
      "Epoch 81/100\n",
      "137/137 [==============================] - 9s 65ms/step - loss: 0.1071 - accuracy: 0.9598 - val_loss: 0.5252 - val_accuracy: 0.8667\n",
      "Epoch 82/100\n",
      "137/137 [==============================] - 9s 65ms/step - loss: 0.1250 - accuracy: 0.9576 - val_loss: 0.5399 - val_accuracy: 0.8648\n",
      "Epoch 83/100\n",
      "137/137 [==============================] - 9s 65ms/step - loss: 0.1185 - accuracy: 0.9535 - val_loss: 0.5191 - val_accuracy: 0.8648\n",
      "Epoch 84/100\n",
      "137/137 [==============================] - 9s 65ms/step - loss: 0.1159 - accuracy: 0.9562 - val_loss: 0.5097 - val_accuracy: 0.8685\n",
      "Epoch 85/100\n",
      "137/137 [==============================] - 9s 65ms/step - loss: 0.1210 - accuracy: 0.9519 - val_loss: 0.4948 - val_accuracy: 0.8639\n",
      "Epoch 86/100\n",
      "137/137 [==============================] - 9s 65ms/step - loss: 0.1318 - accuracy: 0.9507 - val_loss: 0.4979 - val_accuracy: 0.8776\n",
      "Epoch 87/100\n",
      "137/137 [==============================] - 9s 65ms/step - loss: 0.1332 - accuracy: 0.9496 - val_loss: 0.5062 - val_accuracy: 0.8712\n",
      "Epoch 88/100\n",
      "137/137 [==============================] - 9s 65ms/step - loss: 0.0971 - accuracy: 0.9640 - val_loss: 0.4951 - val_accuracy: 0.8767\n",
      "Epoch 89/100\n",
      "137/137 [==============================] - 9s 63ms/step - loss: 0.1071 - accuracy: 0.9601 - val_loss: 0.4890 - val_accuracy: 0.8749\n",
      "Epoch 90/100\n",
      "137/137 [==============================] - 9s 63ms/step - loss: 0.1073 - accuracy: 0.9587 - val_loss: 0.4971 - val_accuracy: 0.8676\n",
      "Epoch 91/100\n",
      "137/137 [==============================] - 9s 63ms/step - loss: 0.1144 - accuracy: 0.9585 - val_loss: 0.4946 - val_accuracy: 0.8712\n",
      "Epoch 92/100\n",
      "137/137 [==============================] - 9s 64ms/step - loss: 0.1052 - accuracy: 0.9621 - val_loss: 0.4851 - val_accuracy: 0.8749\n",
      "Epoch 93/100\n",
      "137/137 [==============================] - 9s 64ms/step - loss: 0.1131 - accuracy: 0.9580 - val_loss: 0.5305 - val_accuracy: 0.8566\n",
      "Epoch 94/100\n",
      "137/137 [==============================] - 10s 68ms/step - loss: 0.1119 - accuracy: 0.9576 - val_loss: 0.5130 - val_accuracy: 0.8667\n",
      "Epoch 95/100\n",
      "137/137 [==============================] - 10s 68ms/step - loss: 0.0909 - accuracy: 0.9687 - val_loss: 0.5315 - val_accuracy: 0.8676\n",
      "Epoch 96/100\n",
      "137/137 [==============================] - 10s 68ms/step - loss: 0.0998 - accuracy: 0.9655 - val_loss: 0.4901 - val_accuracy: 0.8721\n",
      "Epoch 97/100\n",
      "137/137 [==============================] - 10s 71ms/step - loss: 0.1077 - accuracy: 0.9619 - val_loss: 0.4743 - val_accuracy: 0.8758\n",
      "Epoch 98/100\n",
      "137/137 [==============================] - 10s 73ms/step - loss: 0.0925 - accuracy: 0.9644 - val_loss: 0.4939 - val_accuracy: 0.8740\n",
      "Epoch 99/100\n",
      "137/137 [==============================] - 10s 70ms/step - loss: 0.1051 - accuracy: 0.9605 - val_loss: 0.5241 - val_accuracy: 0.8731\n",
      "Epoch 100/100\n",
      "137/137 [==============================] - 10s 69ms/step - loss: 0.1033 - accuracy: 0.9640 - val_loss: 0.5196 - val_accuracy: 0.8648\n"
     ]
    }
   ],
   "source": [
    "input_size=(128,128,3)\n",
    "nor_lay = tf.keras.layers.Rescaling(1./255,input_shape =input_size)\n",
    "\n",
    "model = Sequential()\n",
    "model.add(nor_lay)\n",
    "model.add(layers. SeparableConv2D(filters =32,kernel_size = (3,3),strides =2,activation ='relu',padding = 'same',depth_multiplier=1))\n",
    "model.add(layers.MaxPooling2D(pool_size = (3,3),strides = 2,padding = 'same'))\n",
    "model.add(layers.Dropout(0.2))\n",
    "model.add(layers. SeparableConv2D(filters =32,kernel_size = (3,3),strides =2,activation ='relu',padding = 'same',depth_multiplier=1))\n",
    "model.add(layers.MaxPooling2D(pool_size = (3,3),strides = 2,padding = 'same'))\n",
    "model.add(layers.Dropout(0.2))\n",
    "model.add(layers.Flatten())\n",
    "model.add(layers.Dropout(0.2))\n",
    "model.add(layers.Dense(units = 64,activation ='relu'))\n",
    "model.add(layers.Dense(units =4,kernel_initializer =initializers.random_normal(stddev=0.01),activation ='softmax'))\n",
    "    \n",
    "model.compile(optimizer= tf.optimizers.Adam(learning_rate =0.001),\n",
    "              loss =tf.keras.losses.SparseCategoricalCrossentropy(from_logits = False),\n",
    "              metrics = 'accuracy',\n",
    "             )\n",
    "\n",
    "epoch_num = 100\n",
    "history = model.fit(train_ds,validation_data = test_ds,epochs = epoch_num)\n"
   ]
  },
  {
   "cell_type": "code",
   "execution_count": 101,
   "id": "9d52cc85",
   "metadata": {},
   "outputs": [
    {
     "data": {
      "image/png": "[encoded data removed]",
      "text/plain": [
       "<Figure size 432x288 with 1 Axes>"
      ]
     },
     "metadata": {
      "needs_background": "light"
     },
     "output_type": "display_data"
    },
    {
     "data": {
      "image/png": "[encoded data removed]",
      "text/plain": [
       "<Figure size 432x288 with 1 Axes>"
      ]
     },
     "metadata": {
      "needs_background": "light"
     },
     "output_type": "display_data"
    }
   ],
   "source": [
    "plt.plot(range(epoch_num),history.history['accuracy'])\n",
    "plt.plot(range(epoch_num),history.history['val_accuracy'])\n",
    "plt.title(' Training & Validation Accuracy')\n",
    "plt.ylabel('Accuracy')\n",
    "plt.xlabel('Epoch')\n",
    "plt.legend(['train', 'test'], loc='lower left') \n",
    "plt.show()\n",
    "\n",
    "\n",
    "plt.plot(range(epoch_num),history.history['loss'])\n",
    "plt.plot(range(epoch_num),history.history['val_loss'])\n",
    "plt.title('Training & Validation Loss')\n",
    "plt.ylabel('Loss')\n",
    "plt.xlabel('epoch')\n",
    "plt.legend(['train', 'test'], loc='upper left') \n",
    "plt.show()"
   ]
  },
  {
   "cell_type": "code",
   "execution_count": 102,
   "id": "c0be677e",
   "metadata": {},
   "outputs": [
    {
     "name": "stdout",
     "output_type": "stream",
     "text": [
      "Model: \"sequential_24\"\n",
      "_________________________________________________________________\n",
      " Layer (type)                Output Shape              Param #   \n",
      "=================================================================\n",
      " rescaling_24 (Rescaling)    (None, 128, 128, 3)       0         \n",
      "                                                                 \n",
      " separable_conv2d_6 (Separab  (None, 64, 64, 32)       155       \n",
      " leConv2D)                                                       \n",
      "                                                                 \n",
      " max_pooling2d_42 (MaxPoolin  (None, 32, 32, 32)       0         \n",
      " g2D)                                                            \n",
      "                                                                 \n",
      " dropout_56 (Dropout)        (None, 32, 32, 32)        0         \n",
      "                                                                 \n",
      " separable_conv2d_7 (Separab  (None, 16, 16, 32)       1344      \n",
      " leConv2D)                                                       \n",
      "                                                                 \n",
      " max_pooling2d_43 (MaxPoolin  (None, 8, 8, 32)         0         \n",
      " g2D)                                                            \n",
      "                                                                 \n",
      " dropout_57 (Dropout)        (None, 8, 8, 32)          0         \n",
      "                                                                 \n",
      " flatten_21 (Flatten)        (None, 2048)              0         \n",
      "                                                                 \n",
      " dropout_58 (Dropout)        (None, 2048)              0         \n",
      "                                                                 \n",
      " dense_42 (Dense)            (None, 64)                131136    \n",
      "                                                                 \n",
      " dense_43 (Dense)            (None, 4)                 260       \n",
      "                                                                 \n",
      "=================================================================\n",
      "Total params: 132,895\n",
      "Trainable params: 132,895\n",
      "Non-trainable params: 0\n",
      "_________________________________________________________________\n"
     ]
    }
   ],
   "source": [
    "#model.summary:\n",
    "model.save('m.h5')\n",
    "model.summary()"
   ]
  },
  {
   "cell_type": "code",
   "execution_count": 103,
   "id": "d4451ebf",
   "metadata": {},
   "outputs": [
    {
     "name": "stdout",
     "output_type": "stream",
     "text": [
      "    Evaluate on test data:   \n",
      "35/35 [==============================] - 1s 23ms/step - loss: 0.5196 - accuracy: 0.8648\n",
      "test loss & test acc : [0.5195709466934204, 0.8648402094841003]\n"
     ]
    }
   ],
   "source": [
    "# Q4:evaluate the test data:\n",
    "print('    Evaluate on test data:   ')\n",
    "result = model.evaluate(test_ds, verbose=1)\n",
    "print(\"test loss & test acc :\",result)\n"
   ]
  },
  {
   "cell_type": "code",
   "execution_count": 104,
   "id": "200f4423",
   "metadata": {
    "scrolled": true
   },
   "outputs": [
    {
     "name": "stdout",
     "output_type": "stream",
     "text": [
      "Predict on test data\n",
      "35/35 [==============================] - 1s 23ms/step\n",
      "1095\n",
      "[[9.4212782e-01 4.7846473e-04 5.1616821e-02 5.7768626e-03]\n",
      " [9.8008686e-06 9.9998522e-01 3.0615247e-06 1.8585951e-06]\n",
      " [1.4719586e-01 2.6710596e-04 8.5239762e-01 1.3934681e-04]\n",
      " ...\n",
      " [1.1376528e-07 9.9895787e-01 9.6456148e-04 7.7445213e-05]\n",
      " [2.2560569e-02 4.4160625e-01 1.7993765e-02 5.1783937e-01]\n",
      " [9.9771857e-01 6.4105721e-09 4.5359274e-04 1.8277861e-03]]\n"
     ]
    }
   ],
   "source": [
    "#Q5:predict the test data:\n",
    "print(\"Predict on test data\")\n",
    "prediction = model.predict(test_ds,verbose =1)\n",
    "l = len(prediction)\n",
    "print(l)\n",
    "print(prediction)"
   ]
  },
  {
   "cell_type": "code",
   "execution_count": 105,
   "id": "ebcd53bf",
   "metadata": {},
   "outputs": [
    {
     "name": "stdout",
     "output_type": "stream",
     "text": [
      "1095\n"
     ]
    }
   ],
   "source": [
    "prediction_list=[]\n",
    "for i in prediction:\n",
    "    t = np.array(i)\n",
    "    mid = np.argmax(t)\n",
    "    prediction_list.append(mid)\n",
    "print(len(prediction_list))"
   ]
  },
  {
   "cell_type": "code",
   "execution_count": 107,
   "id": "0e8bb9b5",
   "metadata": {},
   "outputs": [
    {
     "name": "stdout",
     "output_type": "stream",
     "text": [
      "1095\n",
      "0-->jerry\n",
      "1-->tom\n",
      "2-->tom_jerry_0\n",
      "3-->tom_jerry_1\n"
     ]
    },
    {
     "data": {
      "image/png": "[encoded data removed]",
      "text/plain": [
       "<Figure size 288x288 with 2 Axes>"
      ]
     },
     "metadata": {
      "needs_background": "light"
     },
     "output_type": "display_data"
    }
   ],
   "source": [
    "test_ds_list = []\n",
    "test_labels =  np.array([])\n",
    "for x, y in test_ds:\n",
    "    test_labels = np.concatenate([test_labels, y.numpy()])\n",
    "test_labels.shape\n",
    "print(len(test_labels))\n",
    "for i in test_labels:\n",
    "    test_ds_list.append(i)\n",
    "\n",
    "\n",
    "#make the confusion matrix:\n",
    "print(\"0-->jerry\")\n",
    "print(\"1-->tom\")\n",
    "print(\"2-->tom_jerry_0\")\n",
    "print(\"3-->tom_jerry_1\")\n",
    "from sklearn.metrics import confusion_matrix\n",
    "matrix = confusion_matrix(test_ds_list,prediction_list)\n",
    "plt.matshow(matrix,alpha = 0.9)\n",
    "plt.colorbar()\n",
    "plt.ylabel(\"True label\",fontweight='bold')\n",
    "plt.xlabel(\"Predict label\",fontweight='bold')\n",
    "plt.title(\"Confusion Matrix\")\n",
    "plt.show()\n",
    "\n"
   ]
  },
  {
   "cell_type": "code",
   "execution_count": null,
   "id": "7169439e",
   "metadata": {},
   "outputs": [],
   "source": []
  }
 ],
 "metadata": {
  "kernelspec": {
   "display_name": "Python 3 (ipykernel)",
   "language": "python",
   "name": "python3"
  },
  "language_info": {
   "codemirror_mode": {
    "name": "ipython",
    "version": 3
   },
   "file_extension": ".py",
   "mimetype": "text/x-python",
   "name": "python",
   "nbconvert_exporter": "python",
   "pygments_lexer": "ipython3",
   "version": "3.9.12"
  }
 },
 "nbformat": 4,
 "nbformat_minor": 5
}
